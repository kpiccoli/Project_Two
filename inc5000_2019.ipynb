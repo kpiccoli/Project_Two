{
 "cells": [
  {
   "cell_type": "code",
   "execution_count": 57,
   "metadata": {},
   "outputs": [],
   "source": [
    "import pandas as pd\n",
    "from sqlalchemy import create_engine\n",
    "import getpass\n",
    "import numpy as np"
   ]
  },
  {
   "cell_type": "code",
   "execution_count": 58,
   "metadata": {},
   "outputs": [
    {
     "data": {
      "text/html": [
       "<div>\n",
       "<style scoped>\n",
       "    .dataframe tbody tr th:only-of-type {\n",
       "        vertical-align: middle;\n",
       "    }\n",
       "\n",
       "    .dataframe tbody tr th {\n",
       "        vertical-align: top;\n",
       "    }\n",
       "\n",
       "    .dataframe thead th {\n",
       "        text-align: right;\n",
       "    }\n",
       "</style>\n",
       "<table border=\"1\" class=\"dataframe\">\n",
       "  <thead>\n",
       "    <tr style=\"text-align: right;\">\n",
       "      <th></th>\n",
       "      <th>rank</th>\n",
       "      <th>name</th>\n",
       "      <th>state</th>\n",
       "      <th>revenue</th>\n",
       "      <th>growth</th>\n",
       "      <th>industry</th>\n",
       "      <th>workers</th>\n",
       "      <th>founded</th>\n",
       "      <th>yrs_on_list</th>\n",
       "      <th>previous_workers</th>\n",
       "      <th>metro</th>\n",
       "      <th>city</th>\n",
       "    </tr>\n",
       "  </thead>\n",
       "  <tbody>\n",
       "    <tr>\n",
       "      <th>0</th>\n",
       "      <td>1</td>\n",
       "      <td>Freestar</td>\n",
       "      <td>AZ</td>\n",
       "      <td>36.9 Million</td>\n",
       "      <td>36680.3882</td>\n",
       "      <td>Advertising &amp; Marketing</td>\n",
       "      <td>40.0</td>\n",
       "      <td>2015</td>\n",
       "      <td>1</td>\n",
       "      <td>5</td>\n",
       "      <td>Phoenix</td>\n",
       "      <td>Phoenix</td>\n",
       "    </tr>\n",
       "    <tr>\n",
       "      <th>1</th>\n",
       "      <td>2</td>\n",
       "      <td>FreightWise</td>\n",
       "      <td>TN</td>\n",
       "      <td>33.6 Million</td>\n",
       "      <td>30547.9317</td>\n",
       "      <td>Logistics &amp; Transportation</td>\n",
       "      <td>39.0</td>\n",
       "      <td>2015</td>\n",
       "      <td>1</td>\n",
       "      <td>8</td>\n",
       "      <td>Nashville</td>\n",
       "      <td>Brentwood</td>\n",
       "    </tr>\n",
       "    <tr>\n",
       "      <th>2</th>\n",
       "      <td>3</td>\n",
       "      <td>Cece's Veggie Co.</td>\n",
       "      <td>TX</td>\n",
       "      <td>24.9 Million</td>\n",
       "      <td>23880.4852</td>\n",
       "      <td>Food &amp; Beverage</td>\n",
       "      <td>190.0</td>\n",
       "      <td>2015</td>\n",
       "      <td>1</td>\n",
       "      <td>10</td>\n",
       "      <td>Austin</td>\n",
       "      <td>Austin</td>\n",
       "    </tr>\n",
       "    <tr>\n",
       "      <th>3</th>\n",
       "      <td>4</td>\n",
       "      <td>LadyBoss</td>\n",
       "      <td>NM</td>\n",
       "      <td>32.4 Million</td>\n",
       "      <td>21849.8925</td>\n",
       "      <td>Consumer Products &amp; Services</td>\n",
       "      <td>57.0</td>\n",
       "      <td>2014</td>\n",
       "      <td>1</td>\n",
       "      <td>2</td>\n",
       "      <td>NaN</td>\n",
       "      <td>Albuquerque</td>\n",
       "    </tr>\n",
       "    <tr>\n",
       "      <th>4</th>\n",
       "      <td>5</td>\n",
       "      <td>Perpay</td>\n",
       "      <td>PA</td>\n",
       "      <td>22.5 Million</td>\n",
       "      <td>18166.4070</td>\n",
       "      <td>Retail</td>\n",
       "      <td>25.0</td>\n",
       "      <td>2014</td>\n",
       "      <td>1</td>\n",
       "      <td>6</td>\n",
       "      <td>Philadelphia</td>\n",
       "      <td>Philadelphia</td>\n",
       "    </tr>\n",
       "  </tbody>\n",
       "</table>\n",
       "</div>"
      ],
      "text/plain": [
       "   rank               name state       revenue      growth  \\\n",
       "0     1           Freestar    AZ  36.9 Million  36680.3882   \n",
       "1     2        FreightWise    TN  33.6 Million  30547.9317   \n",
       "2     3  Cece's Veggie Co.    TX  24.9 Million  23880.4852   \n",
       "3     4           LadyBoss    NM  32.4 Million  21849.8925   \n",
       "4     5             Perpay    PA  22.5 Million  18166.4070   \n",
       "\n",
       "                       industry  workers  founded  yrs_on_list  \\\n",
       "0       Advertising & Marketing     40.0     2015            1   \n",
       "1    Logistics & Transportation     39.0     2015            1   \n",
       "2               Food & Beverage    190.0     2015            1   \n",
       "3  Consumer Products & Services     57.0     2014            1   \n",
       "4                        Retail     25.0     2014            1   \n",
       "\n",
       "   previous_workers         metro          city  \n",
       "0                 5       Phoenix       Phoenix  \n",
       "1                 8     Nashville     Brentwood  \n",
       "2                10        Austin        Austin  \n",
       "3                 2           NaN   Albuquerque  \n",
       "4                 6  Philadelphia  Philadelphia  "
      ]
     },
     "execution_count": 58,
     "metadata": {},
     "output_type": "execute_result"
    }
   ],
   "source": [
    "csv_file = \"Resources/inc5000_2019.csv\"\n",
    "inc5000 = pd.read_csv(csv_file)\n",
    "inc5000.head()"
   ]
  },
  {
   "cell_type": "code",
   "execution_count": 59,
   "metadata": {},
   "outputs": [
    {
     "data": {
      "text/plain": [
       "rank                  int64\n",
       "name                 object\n",
       "state                object\n",
       "revenue              object\n",
       "growth              float64\n",
       "industry             object\n",
       "workers             float64\n",
       "founded               int64\n",
       "yrs_on_list           int64\n",
       "previous_workers      int64\n",
       "metro                object\n",
       "city                 object\n",
       "dtype: object"
      ]
     },
     "execution_count": 59,
     "metadata": {},
     "output_type": "execute_result"
    }
   ],
   "source": [
    "inc5000.dtypes"
   ]
  },
  {
   "cell_type": "code",
   "execution_count": 60,
   "metadata": {},
   "outputs": [],
   "source": [
    "connection_string = f\"postgres:{pw}@localhost:5432/inc5000_2019\"\n",
    "engine = create_engine(f'postgresql://{connection_string}')"
   ]
  },
  {
   "cell_type": "code",
   "execution_count": 61,
   "metadata": {},
   "outputs": [
    {
     "name": "stdout",
     "output_type": "stream",
     "text": [
      "········\n"
     ]
    }
   ],
   "source": [
    "pw = getpass.getpass()"
   ]
  },
  {
   "cell_type": "code",
   "execution_count": 64,
   "metadata": {},
   "outputs": [
    {
     "data": {
      "text/plain": [
       "['inc5000']"
      ]
     },
     "execution_count": 64,
     "metadata": {},
     "output_type": "execute_result"
    }
   ],
   "source": [
    "engine.table_names()"
   ]
  },
  {
   "cell_type": "code",
   "execution_count": 65,
   "metadata": {},
   "outputs": [],
   "source": [
    "inc5000.to_sql(name='inc5000', con=engine, if_exists='append', index=False)"
   ]
  },
  {
   "cell_type": "code",
   "execution_count": null,
   "metadata": {},
   "outputs": [],
   "source": []
  }
 ],
 "metadata": {
  "kernelspec": {
   "display_name": "Python 3",
   "language": "python",
   "name": "python3"
  },
  "language_info": {
   "codemirror_mode": {
    "name": "ipython",
    "version": 3
   },
   "file_extension": ".py",
   "mimetype": "text/x-python",
   "name": "python",
   "nbconvert_exporter": "python",
   "pygments_lexer": "ipython3",
   "version": "3.7.6"
  }
 },
 "nbformat": 4,
 "nbformat_minor": 4
}
