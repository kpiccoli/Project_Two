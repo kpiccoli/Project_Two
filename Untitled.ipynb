{
 "cells": [
  {
   "cell_type": "code",
   "execution_count": 1,
   "metadata": {},
   "outputs": [],
   "source": [
    "import pandas as pd\n",
    "from sqlalchemy import create_engine\n",
    "import getpass\n",
    "import numpy as np"
   ]
  },
  {
   "cell_type": "code",
   "execution_count": 2,
   "metadata": {},
   "outputs": [
    {
     "data": {
      "text/html": [
       "<div>\n",
       "<style scoped>\n",
       "    .dataframe tbody tr th:only-of-type {\n",
       "        vertical-align: middle;\n",
       "    }\n",
       "\n",
       "    .dataframe tbody tr th {\n",
       "        vertical-align: top;\n",
       "    }\n",
       "\n",
       "    .dataframe thead th {\n",
       "        text-align: right;\n",
       "    }\n",
       "</style>\n",
       "<table border=\"1\" class=\"dataframe\">\n",
       "  <thead>\n",
       "    <tr style=\"text-align: right;\">\n",
       "      <th></th>\n",
       "      <th>Country</th>\n",
       "      <th>Year 2015</th>\n",
       "      <th>Year 2016</th>\n",
       "      <th>Year 2017</th>\n",
       "      <th>Year 2018</th>\n",
       "      <th>Year 2019</th>\n",
       "      <th>Percent Change 2019 - 2020</th>\n",
       "    </tr>\n",
       "  </thead>\n",
       "  <tbody>\n",
       "    <tr>\n",
       "      <th>0</th>\n",
       "      <td>Afghanistan</td>\n",
       "      <td>23,472,001</td>\n",
       "      <td>33,851,625</td>\n",
       "      <td>13,520,650</td>\n",
       "      <td>29,691,427</td>\n",
       "      <td>37,500,386</td>\n",
       "      <td>26.30</td>\n",
       "    </tr>\n",
       "    <tr>\n",
       "      <th>1</th>\n",
       "      <td>Albania</td>\n",
       "      <td>30,779,349</td>\n",
       "      <td>28,707,466</td>\n",
       "      <td>41,560,078</td>\n",
       "      <td>67,921,709</td>\n",
       "      <td>56,611,048</td>\n",
       "      <td>-16.65</td>\n",
       "    </tr>\n",
       "    <tr>\n",
       "      <th>2</th>\n",
       "      <td>Algeria</td>\n",
       "      <td>2,933,159,725</td>\n",
       "      <td>3,053,054,671</td>\n",
       "      <td>3,938,798,603</td>\n",
       "      <td>4,664,608,147</td>\n",
       "      <td>2,639,271,012</td>\n",
       "      <td>-43.42</td>\n",
       "    </tr>\n",
       "    <tr>\n",
       "      <th>3</th>\n",
       "      <td>Andorra</td>\n",
       "      <td>4,847,957</td>\n",
       "      <td>6,610,069</td>\n",
       "      <td>13,539,250</td>\n",
       "      <td>16,016,849</td>\n",
       "      <td>12,241,319</td>\n",
       "      <td>-23.57</td>\n",
       "    </tr>\n",
       "    <tr>\n",
       "      <th>4</th>\n",
       "      <td>Angola</td>\n",
       "      <td>3,009,895,509</td>\n",
       "      <td>2,916,523,754</td>\n",
       "      <td>2,650,634,592</td>\n",
       "      <td>2,781,141,719</td>\n",
       "      <td>1,037,173,143</td>\n",
       "      <td>-62.71</td>\n",
       "    </tr>\n",
       "  </tbody>\n",
       "</table>\n",
       "</div>"
      ],
      "text/plain": [
       "       Country      Year 2015      Year 2016      Year 2017      Year 2018  \\\n",
       "0  Afghanistan     23,472,001     33,851,625     13,520,650     29,691,427   \n",
       "1      Albania     30,779,349     28,707,466     41,560,078     67,921,709   \n",
       "2      Algeria  2,933,159,725  3,053,054,671  3,938,798,603  4,664,608,147   \n",
       "3      Andorra      4,847,957      6,610,069     13,539,250     16,016,849   \n",
       "4       Angola  3,009,895,509  2,916,523,754  2,650,634,592  2,781,141,719   \n",
       "\n",
       "       Year 2019  Percent Change 2019 - 2020  \n",
       "0     37,500,386                       26.30  \n",
       "1     56,611,048                      -16.65  \n",
       "2  2,639,271,012                      -43.42  \n",
       "3     12,241,319                      -23.57  \n",
       "4  1,037,173,143                      -62.71  "
      ]
     },
     "execution_count": 2,
     "metadata": {},
     "output_type": "execute_result"
    }
   ],
   "source": [
    "csv_file = \"Resources/Imports_Consumption.csv\"\n",
    "imports = pd.read_csv(csv_file)\n",
    "imports.head()"
   ]
  },
  {
   "cell_type": "code",
   "execution_count": 3,
   "metadata": {},
   "outputs": [
    {
     "data": {
      "text/plain": [
       "Country                        object\n",
       "Year 2015                      object\n",
       "Year 2016                      object\n",
       "Year 2017                      object\n",
       "Year 2018                      object\n",
       "Year 2019                      object\n",
       "Percent Change 2019 - 2020    float64\n",
       "dtype: object"
      ]
     },
     "execution_count": 3,
     "metadata": {},
     "output_type": "execute_result"
    }
   ],
   "source": [
    "imports.dtypes"
   ]
  },
  {
   "cell_type": "code",
   "execution_count": 4,
   "metadata": {},
   "outputs": [
    {
     "data": {
      "text/html": [
       "<div>\n",
       "<style scoped>\n",
       "    .dataframe tbody tr th:only-of-type {\n",
       "        vertical-align: middle;\n",
       "    }\n",
       "\n",
       "    .dataframe tbody tr th {\n",
       "        vertical-align: top;\n",
       "    }\n",
       "\n",
       "    .dataframe thead th {\n",
       "        text-align: right;\n",
       "    }\n",
       "</style>\n",
       "<table border=\"1\" class=\"dataframe\">\n",
       "  <thead>\n",
       "    <tr style=\"text-align: right;\">\n",
       "      <th></th>\n",
       "      <th>Country</th>\n",
       "      <th>Year 2015</th>\n",
       "      <th>Year 2016</th>\n",
       "      <th>Year 2017</th>\n",
       "      <th>Year 2018</th>\n",
       "      <th>Year 2019</th>\n",
       "      <th>Percent Change 2019 - 2020</th>\n",
       "    </tr>\n",
       "  </thead>\n",
       "  <tbody>\n",
       "    <tr>\n",
       "      <th>0</th>\n",
       "      <td>Afghanistan</td>\n",
       "      <td>478711.52</td>\n",
       "      <td>913874.35</td>\n",
       "      <td>942037.82</td>\n",
       "      <td>1226885.15</td>\n",
       "      <td>750615.21</td>\n",
       "      <td>-38.82</td>\n",
       "    </tr>\n",
       "    <tr>\n",
       "      <th>1</th>\n",
       "      <td>Albania</td>\n",
       "      <td>30897.67</td>\n",
       "      <td>50293.42</td>\n",
       "      <td>62086.96</td>\n",
       "      <td>59200.12</td>\n",
       "      <td>85664.14</td>\n",
       "      <td>44.70</td>\n",
       "    </tr>\n",
       "    <tr>\n",
       "      <th>2</th>\n",
       "      <td>Algeria</td>\n",
       "      <td>1875732.77</td>\n",
       "      <td>2191261.62</td>\n",
       "      <td>1061823.30</td>\n",
       "      <td>1261067.30</td>\n",
       "      <td>999323.37</td>\n",
       "      <td>-20.76</td>\n",
       "    </tr>\n",
       "    <tr>\n",
       "      <th>3</th>\n",
       "      <td>Andorra</td>\n",
       "      <td>3336.82</td>\n",
       "      <td>2830.27</td>\n",
       "      <td>3285.17</td>\n",
       "      <td>3065.76</td>\n",
       "      <td>3350.39</td>\n",
       "      <td>9.28</td>\n",
       "    </tr>\n",
       "    <tr>\n",
       "      <th>4</th>\n",
       "      <td>Angola</td>\n",
       "      <td>1166094.81</td>\n",
       "      <td>1249758.18</td>\n",
       "      <td>809493.49</td>\n",
       "      <td>525185.65</td>\n",
       "      <td>536171.05</td>\n",
       "      <td>2.09</td>\n",
       "    </tr>\n",
       "  </tbody>\n",
       "</table>\n",
       "</div>"
      ],
      "text/plain": [
       "       Country   Year 2015   Year 2016   Year 2017   Year 2018  Year 2019  \\\n",
       "0  Afghanistan   478711.52   913874.35   942037.82  1226885.15  750615.21   \n",
       "1      Albania    30897.67    50293.42    62086.96    59200.12   85664.14   \n",
       "2      Algeria  1875732.77  2191261.62  1061823.30  1261067.30  999323.37   \n",
       "3      Andorra     3336.82     2830.27     3285.17     3065.76    3350.39   \n",
       "4       Angola  1166094.81  1249758.18   809493.49   525185.65  536171.05   \n",
       "\n",
       "   Percent Change 2019 - 2020  \n",
       "0                      -38.82  \n",
       "1                       44.70  \n",
       "2                      -20.76  \n",
       "3                        9.28  \n",
       "4                        2.09  "
      ]
     },
     "execution_count": 4,
     "metadata": {},
     "output_type": "execute_result"
    }
   ],
   "source": [
    "csv_file = \"Resources/Total_Exports.csv\"\n",
    "exports = pd.read_csv(csv_file)\n",
    "exports.head()"
   ]
  },
  {
   "cell_type": "code",
   "execution_count": 5,
   "metadata": {},
   "outputs": [
    {
     "data": {
      "text/plain": [
       "Country                        object\n",
       "Year 2015                     float64\n",
       "Year 2016                     float64\n",
       "Year 2017                     float64\n",
       "Year 2018                     float64\n",
       "Year 2019                     float64\n",
       "Percent Change 2019 - 2020    float64\n",
       "dtype: object"
      ]
     },
     "execution_count": 5,
     "metadata": {},
     "output_type": "execute_result"
    }
   ],
   "source": [
    "exports.dtypes"
   ]
  },
  {
   "cell_type": "code",
   "execution_count": 6,
   "metadata": {},
   "outputs": [
    {
     "ename": "NameError",
     "evalue": "name 'pw' is not defined",
     "output_type": "error",
     "traceback": [
      "\u001b[0;31m---------------------------------------------------------------------------\u001b[0m",
      "\u001b[0;31mNameError\u001b[0m                                 Traceback (most recent call last)",
      "\u001b[0;32m<ipython-input-6-cc1e316ff711>\u001b[0m in \u001b[0;36m<module>\u001b[0;34m\u001b[0m\n\u001b[0;32m----> 1\u001b[0;31m \u001b[0mconnection_string\u001b[0m \u001b[0;34m=\u001b[0m \u001b[0;34mf\"postgres:{pw}@localhost:5432/Project_Two\"\u001b[0m\u001b[0;34m\u001b[0m\u001b[0;34m\u001b[0m\u001b[0m\n\u001b[0m\u001b[1;32m      2\u001b[0m \u001b[0mengine\u001b[0m \u001b[0;34m=\u001b[0m \u001b[0mcreate_engine\u001b[0m\u001b[0;34m(\u001b[0m\u001b[0;34mf'postgresql://{connection_string}'\u001b[0m\u001b[0;34m)\u001b[0m\u001b[0;34m\u001b[0m\u001b[0;34m\u001b[0m\u001b[0m\n",
      "\u001b[0;31mNameError\u001b[0m: name 'pw' is not defined"
     ]
    }
   ],
   "source": [
    "connection_string = f\"postgres:{pw}@localhost:5432/Project_Two\"\n",
    "engine = create_engine(f'postgresql://{connection_string}')"
   ]
  },
  {
   "cell_type": "code",
   "execution_count": null,
   "metadata": {},
   "outputs": [],
   "source": [
    "pw = getpass.getpass()"
   ]
  },
  {
   "cell_type": "code",
   "execution_count": null,
   "metadata": {},
   "outputs": [],
   "source": [
    "engine.table_names()"
   ]
  },
  {
   "cell_type": "code",
   "execution_count": null,
   "metadata": {},
   "outputs": [],
   "source": [
    "imports.to_sql(name='imports', con=engine, if_exists='append', index=False)"
   ]
  },
  {
   "cell_type": "code",
   "execution_count": 7,
   "metadata": {},
   "outputs": [
    {
     "ename": "NameError",
     "evalue": "name 'engine' is not defined",
     "output_type": "error",
     "traceback": [
      "\u001b[0;31m---------------------------------------------------------------------------\u001b[0m",
      "\u001b[0;31mNameError\u001b[0m                                 Traceback (most recent call last)",
      "\u001b[0;32m<ipython-input-7-a7b2b1faaed4>\u001b[0m in \u001b[0;36m<module>\u001b[0;34m\u001b[0m\n\u001b[0;32m----> 1\u001b[0;31m \u001b[0mexports\u001b[0m\u001b[0;34m.\u001b[0m\u001b[0mto_sql\u001b[0m\u001b[0;34m(\u001b[0m\u001b[0mname\u001b[0m\u001b[0;34m=\u001b[0m\u001b[0;34m'exports'\u001b[0m\u001b[0;34m,\u001b[0m \u001b[0mcon\u001b[0m\u001b[0;34m=\u001b[0m\u001b[0mengine\u001b[0m\u001b[0;34m,\u001b[0m \u001b[0mif_exists\u001b[0m\u001b[0;34m=\u001b[0m\u001b[0;34m'append'\u001b[0m\u001b[0;34m,\u001b[0m \u001b[0mindex\u001b[0m\u001b[0;34m=\u001b[0m\u001b[0;32mFalse\u001b[0m\u001b[0;34m)\u001b[0m\u001b[0;34m\u001b[0m\u001b[0;34m\u001b[0m\u001b[0m\n\u001b[0m",
      "\u001b[0;31mNameError\u001b[0m: name 'engine' is not defined"
     ]
    }
   ],
   "source": [
    "exports.to_sql(name='exports', con=engine, if_exists='append', index=False)"
   ]
  },
  {
   "cell_type": "code",
   "execution_count": null,
   "metadata": {},
   "outputs": [],
   "source": []
  },
  {
   "cell_type": "code",
   "execution_count": null,
   "metadata": {},
   "outputs": [],
   "source": []
  },
  {
   "cell_type": "code",
   "execution_count": null,
   "metadata": {},
   "outputs": [],
   "source": []
  }
 ],
 "metadata": {
  "kernelspec": {
   "display_name": "Python 3",
   "language": "python",
   "name": "python3"
  },
  "language_info": {
   "codemirror_mode": {
    "name": "ipython",
    "version": 3
   },
   "file_extension": ".py",
   "mimetype": "text/x-python",
   "name": "python",
   "nbconvert_exporter": "python",
   "pygments_lexer": "ipython3",
   "version": "3.7.6"
  }
 },
 "nbformat": 4,
 "nbformat_minor": 4
}
