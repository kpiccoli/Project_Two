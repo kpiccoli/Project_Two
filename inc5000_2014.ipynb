{
 "cells": [
  {
   "cell_type": "code",
   "execution_count": 1,
   "metadata": {},
   "outputs": [],
   "source": [
    "import pandas as pd\n",
    "from sqlalchemy import create_engine\n",
    "import getpass\n",
    "import numpy as np"
   ]
  },
  {
   "cell_type": "code",
   "execution_count": 3,
   "metadata": {},
   "outputs": [
    {
     "data": {
      "text/html": [
       "<div>\n",
       "<style scoped>\n",
       "    .dataframe tbody tr th:only-of-type {\n",
       "        vertical-align: middle;\n",
       "    }\n",
       "\n",
       "    .dataframe tbody tr th {\n",
       "        vertical-align: top;\n",
       "    }\n",
       "\n",
       "    .dataframe thead th {\n",
       "        text-align: right;\n",
       "    }\n",
       "</style>\n",
       "<table border=\"1\" class=\"dataframe\">\n",
       "  <thead>\n",
       "    <tr style=\"text-align: right;\">\n",
       "      <th></th>\n",
       "      <th>id</th>\n",
       "      <th>rank</th>\n",
       "      <th>workers</th>\n",
       "      <th>company</th>\n",
       "      <th>state</th>\n",
       "      <th>state.1</th>\n",
       "      <th>city</th>\n",
       "      <th>metro</th>\n",
       "      <th>growth</th>\n",
       "      <th>revenue</th>\n",
       "      <th>industry</th>\n",
       "      <th>yrs_on_list</th>\n",
       "    </tr>\n",
       "  </thead>\n",
       "  <tbody>\n",
       "    <tr>\n",
       "      <th>0</th>\n",
       "      <td>22890</td>\n",
       "      <td>1</td>\n",
       "      <td>227</td>\n",
       "      <td>Fuhu</td>\n",
       "      <td>California</td>\n",
       "      <td>CA</td>\n",
       "      <td>El Segundo</td>\n",
       "      <td>Los Angeles</td>\n",
       "      <td>158956.9106</td>\n",
       "      <td>195640000</td>\n",
       "      <td>Consumer Products &amp; Services</td>\n",
       "      <td>2</td>\n",
       "    </tr>\n",
       "    <tr>\n",
       "      <th>1</th>\n",
       "      <td>25747</td>\n",
       "      <td>2</td>\n",
       "      <td>191</td>\n",
       "      <td>Quest Nutrition</td>\n",
       "      <td>California</td>\n",
       "      <td>CA</td>\n",
       "      <td>El Segundo</td>\n",
       "      <td>Los Angeles</td>\n",
       "      <td>57347.9246</td>\n",
       "      <td>82640563</td>\n",
       "      <td>Food &amp; Beverage</td>\n",
       "      <td>1</td>\n",
       "    </tr>\n",
       "    <tr>\n",
       "      <th>2</th>\n",
       "      <td>25643</td>\n",
       "      <td>3</td>\n",
       "      <td>145</td>\n",
       "      <td>Reliant Asset Management</td>\n",
       "      <td>Virginia</td>\n",
       "      <td>VA</td>\n",
       "      <td>Arlington</td>\n",
       "      <td>Washington DC</td>\n",
       "      <td>55460.1646</td>\n",
       "      <td>85076502</td>\n",
       "      <td>Business Products &amp; Services</td>\n",
       "      <td>1</td>\n",
       "    </tr>\n",
       "    <tr>\n",
       "      <th>3</th>\n",
       "      <td>26098</td>\n",
       "      <td>4</td>\n",
       "      <td>62</td>\n",
       "      <td>Superfish</td>\n",
       "      <td>California</td>\n",
       "      <td>CA</td>\n",
       "      <td>Palo Alto</td>\n",
       "      <td>San Jose</td>\n",
       "      <td>26042.9630</td>\n",
       "      <td>35293000</td>\n",
       "      <td>Software</td>\n",
       "      <td>1</td>\n",
       "    </tr>\n",
       "    <tr>\n",
       "      <th>4</th>\n",
       "      <td>26182</td>\n",
       "      <td>5</td>\n",
       "      <td>92</td>\n",
       "      <td>Acacia Communications</td>\n",
       "      <td>Massachusetts</td>\n",
       "      <td>MA</td>\n",
       "      <td>Maynard</td>\n",
       "      <td>Boston</td>\n",
       "      <td>20690.4578</td>\n",
       "      <td>77652360</td>\n",
       "      <td>Telecommunications</td>\n",
       "      <td>1</td>\n",
       "    </tr>\n",
       "  </tbody>\n",
       "</table>\n",
       "</div>"
      ],
      "text/plain": [
       "      id  rank  workers                   company          state state.1  \\\n",
       "0  22890     1      227                      Fuhu     California      CA   \n",
       "1  25747     2      191           Quest Nutrition     California      CA   \n",
       "2  25643     3      145  Reliant Asset Management       Virginia      VA   \n",
       "3  26098     4       62                 Superfish     California      CA   \n",
       "4  26182     5       92     Acacia Communications  Massachusetts      MA   \n",
       "\n",
       "         city          metro       growth    revenue  \\\n",
       "0  El Segundo    Los Angeles  158956.9106  195640000   \n",
       "1  El Segundo    Los Angeles   57347.9246   82640563   \n",
       "2   Arlington  Washington DC   55460.1646   85076502   \n",
       "3   Palo Alto       San Jose   26042.9630   35293000   \n",
       "4     Maynard         Boston   20690.4578   77652360   \n",
       "\n",
       "                       industry  yrs_on_list  \n",
       "0  Consumer Products & Services            2  \n",
       "1               Food & Beverage            1  \n",
       "2  Business Products & Services            1  \n",
       "3                      Software            1  \n",
       "4            Telecommunications            1  "
      ]
     },
     "execution_count": 3,
     "metadata": {},
     "output_type": "execute_result"
    }
   ],
   "source": [
    "csv_file = \"Resources/inc5000_2014.csv\"\n",
    "inc5000 = pd.read_csv(csv_file)\n",
    "inc5000.head()"
   ]
  },
  {
   "cell_type": "code",
   "execution_count": 4,
   "metadata": {},
   "outputs": [
    {
     "data": {
      "text/plain": [
       "id               int64\n",
       "rank             int64\n",
       "workers          int64\n",
       "company         object\n",
       "state           object\n",
       "state.1         object\n",
       "city            object\n",
       "metro           object\n",
       "growth         float64\n",
       "revenue          int64\n",
       "industry        object\n",
       "yrs_on_list      int64\n",
       "dtype: object"
      ]
     },
     "execution_count": 4,
     "metadata": {},
     "output_type": "execute_result"
    }
   ],
   "source": [
    "inc5000.dtypes"
   ]
  },
  {
   "cell_type": "code",
   "execution_count": 7,
   "metadata": {},
   "outputs": [],
   "source": [
    "connection_string = f\"postgres:{pw}@localhost:5432/inc5000_2014\"\n",
    "engine = create_engine(f'postgresql://{connection_string}')"
   ]
  },
  {
   "cell_type": "code",
   "execution_count": 8,
   "metadata": {},
   "outputs": [
    {
     "name": "stdout",
     "output_type": "stream",
     "text": [
      "········\n"
     ]
    }
   ],
   "source": [
    "pw = getpass.getpass()"
   ]
  },
  {
   "cell_type": "code",
   "execution_count": 11,
   "metadata": {},
   "outputs": [
    {
     "data": {
      "text/plain": [
       "['inc5000']"
      ]
     },
     "execution_count": 11,
     "metadata": {},
     "output_type": "execute_result"
    }
   ],
   "source": [
    "engine.table_names()"
   ]
  },
  {
   "cell_type": "code",
   "execution_count": 12,
   "metadata": {},
   "outputs": [],
   "source": [
    "inc5000.to_sql(name='inc5000', con=engine, if_exists='append', index=False)"
   ]
  },
  {
   "cell_type": "code",
   "execution_count": null,
   "metadata": {},
   "outputs": [],
   "source": []
  }
 ],
 "metadata": {
  "kernelspec": {
   "display_name": "Python 3",
   "language": "python",
   "name": "python3"
  },
  "language_info": {
   "codemirror_mode": {
    "name": "ipython",
    "version": 3
   },
   "file_extension": ".py",
   "mimetype": "text/x-python",
   "name": "python",
   "nbconvert_exporter": "python",
   "pygments_lexer": "ipython3",
   "version": "3.7.6"
  }
 },
 "nbformat": 4,
 "nbformat_minor": 4
}
